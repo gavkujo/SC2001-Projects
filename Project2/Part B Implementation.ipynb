{
 "cells": [
  {
   "cell_type": "code",
   "execution_count": 1,
   "metadata": {},
   "outputs": [
    {
     "name": "stdout",
     "output_type": "stream",
     "text": [
      "Shortest distances from source 0:\n",
      "Vertex 0 -> Distance: 0\n",
      "Vertex 1 -> Distance: 8\n",
      "Vertex 2 -> Distance: 9\n",
      "Vertex 3 -> Distance: 7\n",
      "Vertex 4 -> Distance: 5\n"
     ]
    }
   ],
   "source": [
    "import heapq\n",
    "\n",
    "# Class to represent a graph\n",
    "class Graph:\n",
    "    def __init__(self, vertices):\n",
    "        self.V = vertices\n",
    "        self.adj_list = [[] for _ in range(vertices)]\n",
    "\n",
    "    # Function to add an edge to the graph\n",
    "    def add_edge(self, source, target, weight):\n",
    "        self.adj_list[source].append((target, weight))\n",
    "        self.adj_list[target].append((source, weight))  # For undirected graph\n",
    "\n",
    "    # Dijkstra's algorithm to find the shortest path from a source vertex\n",
    "    def dijkstra(self, source):\n",
    "        # Min-heap to store (distance, vertex)\n",
    "        min_heap = [(0, source)]\n",
    "        \n",
    "        # Distance array to store the shortest distance from the source\n",
    "        dist = [float('inf')] * self.V\n",
    "        dist[source] = 0\n",
    "        \n",
    "        # While the priority queue is not empty\n",
    "        while min_heap:\n",
    "            current_dist, current_vertex = heapq.heappop(min_heap)\n",
    "            \n",
    "            # If a shorter path to the current vertex was already found, continue\n",
    "            if current_dist > dist[current_vertex]:\n",
    "                continue\n",
    "            \n",
    "            # Process each neighbor of the current vertex\n",
    "            for neighbor, weight in self.adj_list[current_vertex]:\n",
    "                distance = current_dist + weight\n",
    "                \n",
    "                # If a shorter path to the neighbor is found\n",
    "                if distance < dist[neighbor]:\n",
    "                    dist[neighbor] = distance\n",
    "                    heapq.heappush(min_heap, (distance, neighbor))\n",
    "        \n",
    "        # Print the shortest distances from the source vertex\n",
    "        print(f\"Shortest distances from source {source}:\")\n",
    "        for i in range(self.V):\n",
    "            print(f\"Vertex {i} -> Distance: {dist[i]}\")\n",
    "\n",
    "# Example usage\n",
    "if __name__ == \"__main__\":\n",
    "    # Create a graph with 5 vertices\n",
    "    g = Graph(5)\n",
    "    g.add_edge(0, 1, 10)\n",
    "    g.add_edge(0, 4, 5)\n",
    "    g.add_edge(1, 2, 1)\n",
    "    g.add_edge(4, 1, 3)\n",
    "    g.add_edge(4, 2, 9)\n",
    "    g.add_edge(4, 3, 2)\n",
    "    g.add_edge(2, 3, 4)\n",
    "    \n",
    "    # Run Dijkstra's algorithm from vertex 0\n",
    "    g.dijkstra(0)\n"
   ]
  }
 ],
 "metadata": {
  "kernelspec": {
   "display_name": "base",
   "language": "python",
   "name": "python3"
  },
  "language_info": {
   "codemirror_mode": {
    "name": "ipython",
    "version": 3
   },
   "file_extension": ".py",
   "mimetype": "text/x-python",
   "name": "python",
   "nbconvert_exporter": "python",
   "pygments_lexer": "ipython3",
   "version": "3.9.7"
  }
 },
 "nbformat": 4,
 "nbformat_minor": 2
}
