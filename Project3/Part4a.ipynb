{
 "cells": [
  {
   "cell_type": "code",
   "execution_count": 2,
   "id": "f07c1b74",
   "metadata": {},
   "outputs": [
    {
     "name": "stdout",
     "output_type": "stream",
     "text": [
      "dp[1] = 0\n",
      "dp[2] = 0\n",
      "dp[3] = 0\n",
      "dp[4] = 7\n",
      "dp[5] = 7\n",
      "dp[6] = 7\n",
      "dp[7] = 7\n",
      "dp[8] = 14\n",
      "dp[9] = 14\n",
      "dp[10] = 14\n",
      "dp[11] = 14\n",
      "dp[12] = 21\n",
      "dp[13] = 21\n",
      "dp[14] = 21\n",
      "Maximum profit for P(14) with weights [4, 6, 8] and profits [7, 6, 9]: 21\n"
     ]
    }
   ],
   "source": [
    "def unbounded_knapsack(C, weights, profits):\n",
    "    # initialising array to store the max profit for each capacity up to C\n",
    "    dp = [0] * (C + 1)\n",
    "\n",
    "    # computing max profit for each sub-capacity from 1 to C\n",
    "    for capacity in range(1, C + 1):\n",
    "        max_profit = 0\n",
    "        for i in range(len(weights)):\n",
    "            if weights[i] <= capacity:\n",
    "                max_profit = max(max_profit, dp[capacity - weights[i]] + profits[i])\n",
    "        dp[capacity] = max_profit\n",
    "        print(f\"dp[{capacity}] = {dp[capacity]}\")  # Shows update at each capacity\n",
    "\n",
    "    return dp[C]\n",
    "\n",
   
    "weights = [4, 6, 8]\n",
    "profits = [7, 6, 9]\n",
    "capacity = 14\n",
    "\n",
  
    "max_profit = unbounded_knapsack(capacity, weights, profits)\n",
    "print(\"Maximum profit for P(14) with weights [4, 6, 8] and profits [7, 6, 9]:\", max_profit)\n"
   ]
  },
  {
   "cell_type": "code",
   "execution_count": null,
   "id": "17e4b5c5",
   "metadata": {},
   "outputs": [],
   "source": []
  }
 ],
 "metadata": {
  "kernelspec": {
   "display_name": "Python 3 (ipykernel)",
   "language": "python",
   "name": "python3"
  },
  "language_info": {
   "codemirror_mode": {
    "name": "ipython",
    "version": 3
   },
   "file_extension": ".py",
   "mimetype": "text/x-python",
   "name": "python",
   "nbconvert_exporter": "python",
   "pygments_lexer": "ipython3",
   "version": "3.11.5"
  }
 },
 "nbformat": 4,
 "nbformat_minor": 5
}
